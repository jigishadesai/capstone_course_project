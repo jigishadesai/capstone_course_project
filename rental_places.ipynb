{
 "cells": [
  {
   "cell_type": "markdown",
   "metadata": {},
   "source": [
    "## Capstone Project: The battle of neighbourhoods"
   ]
  },
  {
   "cell_type": "markdown",
   "metadata": {},
   "source": [
    "### File Name: rental_places.ipynb"
   ]
  },
  {
   "cell_type": "markdown",
   "metadata": {},
   "source": [
    "### This code will retrieve rental places details like address,rent,no of beds,no of bathrooms etc in Manhattan,NY by web scraping. Using Geocoders and Nominatim, latitude and longitude of each station is retrieved and then all the details are stored in \"rental_places.csv\" file"
   ]
  },
  {
   "cell_type": "code",
   "execution_count": 1,
   "metadata": {},
   "outputs": [],
   "source": [
    "#import libraries\n",
    "from bs4 import BeautifulSoup\n",
    "import requests\n",
    "import pandas as pd\n",
    "from geopy.geocoders import Nominatim # convert an address into latitude and longitude values"
   ]
  },
  {
   "cell_type": "markdown",
   "metadata": {},
   "source": [
    "<div class=\"seo-wrap hide\">\n",
    "      <span itemprop=\"address\" itemscope itemtype=\"http://schema.org/PostalAddress\">\n",
    "        <span itemprop=\"streetAddress\">625 W 57th St</span>\n",
    "        <span itemprop=\"addressLocality\">New York</span>\n",
    "        <span itemprop=\"addressRegion\">NY</span>\n",
    "        <span itemprop=\"postalCode\">10019</span>\n",
    "      </span>\n",
    "      <span class=\"listing-geo\" itemprop=\"geo\" itemscope itemtype=\"http://schema.org/GeoCoordinates\">\n",
    "        <meta content=\"40.77145\" itemprop=\"latitude\">\n",
    "        <meta content=\"-73.99297\" itemprop=\"longitude\">\n",
    "      </span>\n",
    "    </div>\n"
   ]
  },
  {
   "cell_type": "code",
   "execution_count": 2,
   "metadata": {},
   "outputs": [],
   "source": [
    "#-----------Access the text from \"www.calibernyc.com\" using Beautifulsoup---------------------\n",
    "\n",
    "url=\"https://www.calibernyc.com/?page=browser&filter=1\"\n",
    "\n",
    "source = requests.get(url).text\n",
    "\n",
    "soup=BeautifulSoup(source,'lxml')\n",
    "\n",
    "\n"
   ]
  },
  {
   "cell_type": "code",
   "execution_count": 3,
   "metadata": {},
   "outputs": [],
   "source": [
    "# instantiate the dataframe to store stations details\n",
    "\n",
    "column_names = ['Address','Rent','Details','Lat', 'Long'] \n",
    "df_rent = pd.DataFrame(columns=column_names)"
   ]
  },
  {
   "cell_type": "code",
   "execution_count": 4,
   "metadata": {},
   "outputs": [
    {
     "name": "stdout",
     "output_type": "stream",
     "text": [
      "27-03 42ND ROAD, #14C\n",
      "$2,750\n",
      "1 BR  \r\n",
      "\t\t\t\t\t\t| 1 BT\n",
      "784 COLUMBUS AVENUE, #8E\n",
      "$6,250\n",
      "1.5 BR  \r\n",
      "\t\t\t\t\t\t| 2 BT\n",
      "220 MADISON AVENUE, #3L\n",
      "$2,995\n",
      "2 BR  \r\n",
      "\t\t\t\t\t\t| 1 BT\n",
      "220 MADISON AVENUE, #7Q\n",
      "$4,600\n",
      "3 BR  \r\n",
      "\t\t\t\t\t\t| 2 BT\n",
      "315 EAST 56TH STREET, #3D\n",
      "$2,979\n",
      "1 BR  \r\n",
      "\t\t\t\t\t\t| 1 BT\n",
      "309 EAST 61ST STREET, #3\n",
      "$2,650\n",
      "1 BR  \r\n",
      "\t\t\t\t\t\t| 1 BT\n",
      "205-235 EAST 95TH STREET, #20F\n",
      "$3,264\n",
      "2 BR  \r\n",
      "\t\t\t\t\t\t| 1 BT\n",
      "234 EAST 52ND STREET, #2E\n",
      "$3,250\n",
      "2 BR  \r\n",
      "\t\t\t\t\t\t| 1 BT\n",
      "179 MULBERRY STREET, #1A\n",
      "$3,375\n",
      "2 BR  \r\n",
      "\t\t\t\t\t\t| 1 BT\n",
      "2-01 50TH AVENUE, #16\n",
      "$4,780\n",
      "3 BR  \r\n",
      "\t\t\t\t\t\t| 2 BT\n",
      "304 EAST 62ND STREET, #3\n",
      "$2,400\n",
      "1 BR  \r\n",
      "\t\t\t\t\t\t| 1 BT\n",
      "4720 CENTER BOULEVARD, #412\n",
      "$2,300\n",
      "Studio  \r\n",
      "\t\t\t\t\t\t| 1 BT\n"
     ]
    }
   ],
   "source": [
    "#retrieve details like address,rent,no of bedrooms\n",
    "\n",
    "apartments= soup.find_all('div',class_='image-caption')\n",
    "\n",
    "for apt in apartments:\n",
    "    address=apt.a.text.strip()\n",
    "    price=apt.find('div',class_='price').span.text.strip()\n",
    "    detail=apt.find('div',class_='bedrooms').text.strip()\n",
    "    print(address)\n",
    "    print(price)\n",
    "    print(detail)\n",
    "    \n",
    "    #store details in dataframe\n",
    "    df_rent=df_rent.append({'Address': address,'Rent':price,'Details':detail}, ignore_index=True)"
   ]
  },
  {
   "cell_type": "code",
   "execution_count": 5,
   "metadata": {},
   "outputs": [],
   "source": [
    "#-----------Access the text from \"www.rentmanhattan.com\" using Beautifulsoup---------------------\n",
    "\n",
    "url=\"http://www.rentmanhattan.com/index.cfm?page=search&state=results\"\n",
    "\n",
    "source = requests.get(url).text\n",
    "\n",
    "soup=BeautifulSoup(source,'lxml')\n",
    "    \n",
    "#print(soup.prettify())\n",
    "  \n",
    "   "
   ]
  },
  {
   "cell_type": "code",
   "execution_count": 6,
   "metadata": {},
   "outputs": [
    {
     "name": "stdout",
     "output_type": "stream",
     "text": [
      "Listing #: 43669\r\n",
      "\t\t\t\t\tWest 105th Street\r\n",
      "\t\t\t\t\tUpper West Side\n",
      "$10,000\n",
      "Condo\r\n",
      "\t\t\t\t\t5 Beds,\r\n",
      "\t\t\t\t\t\t2 Baths\n",
      "Listing #: 44191\r\n",
      "\t\t\t\t\t156 E 30 ST. #PH\r\n",
      "\t\t\t\t\tMurray Hill\n",
      "$6,000\n",
      "Apartment\r\n",
      "\t\t\t\t\t2 Beds,\r\n",
      "\t\t\t\t\t\t2 Baths\r\n",
      "\t\t\t\t\tApprox. 1,200 SqFt\n",
      "Listing #: 44198\r\n",
      "\t\t\t\t\teast 30th street\r\n",
      "\t\t\t\t\tMurray Hill\n",
      "$6,000\n",
      "Apartment\r\n",
      "\t\t\t\t\t2 Beds,\r\n",
      "\t\t\t\t\t\t2 Baths\n",
      "Listing #: 44210\r\n",
      "\t\t\t\t\tEast 97th Street\r\n",
      "\t\t\t\t\tUpper East Side\n",
      "$5,500\n",
      "Apartment\r\n",
      "\t\t\t\t\t3 Beds,\r\n",
      "\t\t\t\t\t\t2 Baths\n",
      "Listing #: 44216\r\n",
      "\t\t\t\t\teast 30th street\r\n",
      "\t\t\t\t\tMurray Hill\n",
      "$5,500\n",
      "Apartment\r\n",
      "\t\t\t\t\t2 Beds,\r\n",
      "\t\t\t\t\t\t2 Baths\r\n",
      "\t\t\t\t\tApprox. 950 SqFt\n",
      "Listing #: 43827\r\n",
      "\t\t\t\t\tWest 105th Street\r\n",
      "\t\t\t\t\tUpper West Side\n",
      "$5,300\n",
      "Condo\r\n",
      "\t\t\t\t\t4 Beds,\r\n",
      "\t\t\t\t\t\t2 Baths\n",
      "Listing #: 32162\r\n",
      "\t\t\t\t\tE 91ST\r\n",
      "\t\t\t\t\tUpper East Side\n",
      "$4,650\n",
      "Apartment\r\n",
      "\t\t\t\t\t2 Beds,\r\n",
      "\t\t\t\t\t\t2 Baths\n",
      "Listing #: 43965\r\n",
      "\t\t\t\t\tEAST 88TH STREET\r\n",
      "\t\t\t\t\tUpper East Side\n",
      "$4,500\n",
      "Apartment\r\n",
      "\t\t\t\t\t2 Beds,\r\n",
      "\t\t\t\t\t\t2 Baths\n",
      "Listing #: 43974\r\n",
      "\t\t\t\t\teast 30th street\r\n",
      "\t\t\t\t\tMurray Hill\n",
      "$4,500\n",
      "Apartment\r\n",
      "\t\t\t\t\t3 Beds,\r\n",
      "\t\t\t\t\t\t2 Baths\n",
      "Listing #: 43799\r\n",
      "\t\t\t\t\tEast 77th Street\r\n",
      "\t\t\t\t\tUpper East Side\n",
      "$4,500\n",
      "Apartment\r\n",
      "\t\t\t\t\t1 Beds,\r\n",
      "\t\t\t\t\t\t 1.5 Baths\n"
     ]
    }
   ],
   "source": [
    "#retrieve details like address,rent,no of bedrooms\n",
    "\n",
    "apartments= soup.find_all('div',class_='dspSearchResults')\n",
    "\n",
    "for apt in apartments:\n",
    "    address=apt.find('div',class_='dspSearchResultsAddress').text.strip()\n",
    "    price=apt.find('div',class_='dspSearchResultsPrice').text.strip()\n",
    "    detail=apt.find('div',class_='dspSearchResultsSize').text.strip()\n",
    "    print(address)\n",
    "    print(price)\n",
    "    print(detail)\n",
    "    \n",
    "    \n",
    "     #store details in dataframe\n",
    "    df_rent=df_rent.append({'Address': address,'Rent':price,'Details':detail}, ignore_index=True)\n",
    "   "
   ]
  },
  {
   "cell_type": "code",
   "execution_count": 7,
   "metadata": {},
   "outputs": [],
   "source": [
    "#-----------Access the text from \"www.realstash.com\" using Beautifulsoup---------------------\n",
    "\n",
    "url=\"https://realstash.com/search?type=RENT&status=1&sort=newest&priceMin=2000&priceMax=5000&geoAreas=1&page=0&perPage=10\"\n",
    "\n",
    "source = requests.get(url).text\n",
    "\n",
    "soup=BeautifulSoup(source,'lxml')\n"
   ]
  },
  {
   "cell_type": "code",
   "execution_count": 8,
   "metadata": {},
   "outputs": [
    {
     "name": "stdout",
     "output_type": "stream",
     "text": [
      "320 West 38th Street, Hell's Kitchen, Manhattan - #827\n",
      "$3,743\n",
      "                    / month\n",
      "1 Bed\n",
      "429 East 52nd Street, Midtown, Manhattan - #15D\n",
      "$3,050\n",
      "                    / month\n",
      "2 Beds\n",
      "30 West 18th Street, Chelsea, Manhattan - #3B\n",
      "$3,150\n",
      "                    / month\n",
      "Studio\n",
      "216 East 84th Street, Upper East Side, Manhattan - #1C\n",
      "$3,295\n",
      "                    / month\n",
      "1 Bed\n",
      "103 Avenue A, East Village, Manhattan - #2b\n",
      "$4,900\n",
      "                    / month\n",
      "3 Beds\n",
      "162b East 55th Street, Midtown, Manhattan - #3C\n",
      "$2,850\n",
      "                    / month\n",
      "1 Bed\n",
      "1075 1st Avenue, Midtown, Manhattan - #2F\n",
      "$2,275\n",
      "                    / month\n",
      "Studio\n",
      "351 East 84th Street, Upper East Side, Manhattan - #B\n",
      "$4,695\n",
      "                    / month\n",
      "1.5 Bed\n",
      "342 East 50th Street, Midtown, Manhattan - #2B\n",
      "$2,495\n",
      "                    / month\n",
      "1 Bed\n",
      "139 Haven Avenue, Washington Heights, Manhattan - #C21\n",
      "$2,406\n",
      "                    / month\n",
      "2 Beds\n"
     ]
    }
   ],
   "source": [
    "#retrieve details like address,rent,no of bedrooms\n",
    "\n",
    "apartments=soup.find_all('div',class_='listing-details')\n",
    "\n",
    "for apt in apartments:\n",
    "   address=apt.find('span',class_='rs-normal-color').text.strip()\n",
    "   print(address)\n",
    "   price=apt.find('p',class_='price-mobile').text.strip()\n",
    "   print(price)\n",
    "   detail=apt.find_all('div',class_='listing-specs-item')\n",
    "   detail=detail[1].text.strip()\n",
    "   print(detail)\n",
    "\n",
    "\n",
    "    #store details in dataframe\n",
    "   df_rent=df_rent.append({'Address': address,'Rent':price,'Details':detail}, ignore_index=True)\n"
   ]
  },
  {
   "cell_type": "code",
   "execution_count": null,
   "metadata": {},
   "outputs": [],
   "source": [
    "#Retrieve latitude and longitude for each rental place using Nominatim and geolocator\n",
    "\n",
    "for n in range(len(df_rent)):   \n",
    "    address= df_rent['Address'][n].strip()\n",
    "    address=(df_rent['Address'][n]+ '  , '+' Manhattan NY ')\n",
    "    geolocator = Nominatim()\n",
    "    location = geolocator.geocode(address)\n",
    "    latitude = location.latitude\n",
    "    longitude = location.longitude\n",
    "    df_rent['Lat'][n]=latitude\n",
    "    df_rent['Long'][n]=longitude\n",
    " "
   ]
  },
  {
   "cell_type": "code",
   "execution_count": 10,
   "metadata": {},
   "outputs": [
    {
     "name": "stdout",
     "output_type": "stream",
     "text": [
      "Rental places details are stored in csv file\n"
     ]
    }
   ],
   "source": [
    "#Store details in csv file\n",
    "\n",
    "df_rent.to_csv('rental_places.csv',index=False)\n",
    "print(\"Rental places details are stored in csv file\")\n"
   ]
  },
  {
   "cell_type": "code",
   "execution_count": null,
   "metadata": {},
   "outputs": [],
   "source": []
  }
 ],
 "metadata": {
  "kernelspec": {
   "display_name": "Python 3",
   "language": "python",
   "name": "python3"
  },
  "language_info": {
   "codemirror_mode": {
    "name": "ipython",
    "version": 3
   },
   "file_extension": ".py",
   "mimetype": "text/x-python",
   "name": "python",
   "nbconvert_exporter": "python",
   "pygments_lexer": "ipython3",
   "version": "3.6.5"
  }
 },
 "nbformat": 4,
 "nbformat_minor": 2
}
